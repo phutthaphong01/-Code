{
 "cells": [
  {
   "cell_type": "code",
   "execution_count": 11,
   "metadata": {},
   "outputs": [
    {
     "name": "stdout",
     "output_type": "stream",
     "text": [
      "25\n",
      "1253.59845\n",
      "python\n"
     ]
    }
   ],
   "source": [
    "a = 25\n",
    "b = 1253.59845\n",
    "c = 'python'\n",
    "\n",
    "print(a);print(b);print(c)"
   ]
  },
  {
   "cell_type": "code",
   "execution_count": 2,
   "metadata": {},
   "outputs": [
    {
     "name": "stdout",
     "output_type": "stream",
     "text": [
      "Hellopythonprogramming\n"
     ]
    }
   ],
   "source": [
    "#ข้อ1\n",
    "print('Hello%sprogramming'%c)"
   ]
  },
  {
   "cell_type": "code",
   "execution_count": 15,
   "metadata": {},
   "outputs": [
    {
     "name": "stdout",
     "output_type": "stream",
     "text": [
      "a = 25\n"
     ]
    }
   ],
   "source": [
    "#ข้อ2\n",
    "print('a = %d'%a)"
   ]
  },
  {
   "cell_type": "code",
   "execution_count": 19,
   "metadata": {},
   "outputs": [
    {
     "name": "stdout",
     "output_type": "stream",
     "text": [
      "b = 1253\n"
     ]
    }
   ],
   "source": [
    "#ข้อ3\n",
    "print('b = %d'%b)"
   ]
  },
  {
   "cell_type": "code",
   "execution_count": 16,
   "metadata": {},
   "outputs": [
    {
     "name": "stdout",
     "output_type": "stream",
     "text": [
      "python is easy\n"
     ]
    }
   ],
   "source": [
    "#ข้อ4\n",
    "print('%s is easy'%c)"
   ]
  },
  {
   "cell_type": "code",
   "execution_count": 20,
   "metadata": {},
   "outputs": [
    {
     "name": "stdout",
     "output_type": "stream",
     "text": [
      "1153\n"
     ]
    }
   ],
   "source": [
    "#ข้อ5\n",
    "print('%d' %(b-100))"
   ]
  },
  {
   "cell_type": "code",
   "execution_count": 21,
   "metadata": {},
   "outputs": [
    {
     "name": "stdout",
     "output_type": "stream",
     "text": [
      "b = 1253.598450\n"
     ]
    }
   ],
   "source": [
    "#ข้อ6\n",
    "print('b = %f'%b)"
   ]
  },
  {
   "cell_type": "code",
   "execution_count": 22,
   "metadata": {},
   "outputs": [
    {
     "name": "stdout",
     "output_type": "stream",
     "text": [
      "a = 25.000000\n"
     ]
    }
   ],
   "source": [
    "#ข้อ7\n",
    "print('a = %f'%a)"
   ]
  },
  {
   "cell_type": "code",
   "execution_count": 25,
   "metadata": {},
   "outputs": [
    {
     "name": "stdout",
     "output_type": "stream",
     "text": [
      "b = 1253.60\n"
     ]
    }
   ],
   "source": [
    "#ข้อ8\n",
    "print('b = %.2f'%b)"
   ]
  },
  {
   "cell_type": "code",
   "execution_count": 26,
   "metadata": {},
   "outputs": [
    {
     "name": "stdout",
     "output_type": "stream",
     "text": [
      "25 1253.60\n"
     ]
    }
   ],
   "source": [
    "#ข้อ9\n",
    "print('%d %.2f'%(a,b))"
   ]
  },
  {
   "cell_type": "code",
   "execution_count": 27,
   "metadata": {},
   "outputs": [
    {
     "name": "stdout",
     "output_type": "stream",
     "text": [
      "1228.598\n"
     ]
    }
   ],
   "source": [
    "#ข้อ10\n",
    "print('%.3f'%(b-a))"
   ]
  },
  {
   "cell_type": "code",
   "execution_count": 28,
   "metadata": {},
   "outputs": [
    {
     "name": "stdout",
     "output_type": "stream",
     "text": [
      ">>>Hello World\n"
     ]
    }
   ],
   "source": [
    "#ข้อ11\n",
    "print('>>>Hello World')"
   ]
  },
  {
   "cell_type": "code",
   "execution_count": 33,
   "metadata": {},
   "outputs": [
    {
     "name": "stdout",
     "output_type": "stream",
     "text": [
      "\">>>I don't have car\"\n"
     ]
    }
   ],
   "source": [
    "#ข้อ12\n",
    "g = \">>>I don't have car\"\n",
    "print('\"%s\"'%g)"
   ]
  },
  {
   "cell_type": "code",
   "execution_count": 34,
   "metadata": {},
   "outputs": [
    {
     "name": "stdout",
     "output_type": "stream",
     "text": [
      "You got new job? That's so exciting\n"
     ]
    }
   ],
   "source": [
    "#ข้อ13\n",
    "print(\"You got new job? That's so exciting\")"
   ]
  },
  {
   "cell_type": "code",
   "execution_count": 36,
   "metadata": {},
   "outputs": [
    {
     "name": "stdout",
     "output_type": "stream",
     "text": [
      "a\n",
      "an\n",
      "ant\n",
      "\n"
     ]
    }
   ],
   "source": [
    "#ข้อ14\n",
    "print('a\\nan\\nant\\n')"
   ]
  },
  {
   "cell_type": "code",
   "execution_count": 37,
   "metadata": {},
   "outputs": [
    {
     "name": "stdout",
     "output_type": "stream",
     "text": [
      "Just because something\n",
      "think diferently from you,\n",
      "dose that mean it's not thinking\n"
     ]
    }
   ],
   "source": [
    "#ข้อ15\n",
    "print(\"Just because something\\nthink diferently from you,\\ndose that mean it's not thinking\")"
   ]
  },
  {
   "cell_type": "code",
   "execution_count": 42,
   "metadata": {},
   "outputs": [
    {
     "name": "stdout",
     "output_type": "stream",
     "text": [
      "12.5\n"
     ]
    }
   ],
   "source": [
    "#ข้อ16\n",
    "a = 12.5\n",
    "print('%.1f'%a)"
   ]
  },
  {
   "cell_type": "code",
   "execution_count": 43,
   "metadata": {},
   "outputs": [
    {
     "name": "stdout",
     "output_type": "stream",
     "text": [
      "2x3 = 6\n"
     ]
    }
   ],
   "source": [
    "#ข้อ17\n",
    "a = 2\n",
    "b = 3\n",
    "c = a*b\n",
    "print('2x3 = %d'%c)"
   ]
  },
  {
   "cell_type": "code",
   "execution_count": 44,
   "metadata": {},
   "outputs": [
    {
     "name": "stdout",
     "output_type": "stream",
     "text": [
      "2.4 + 2.5 = 4.9000\n"
     ]
    }
   ],
   "source": [
    "#ข้อ18\n",
    "a = 2.4\n",
    "b = 2.5\n",
    "c = a+b\n",
    "print('2.4 + 2.5 = %.4f'%c)"
   ]
  },
  {
   "cell_type": "code",
   "execution_count": 45,
   "metadata": {},
   "outputs": [
    {
     "name": "stdout",
     "output_type": "stream",
     "text": [
      "5.00 - 2.00 = 3.0000\n"
     ]
    }
   ],
   "source": [
    "#ข้อ19\n",
    "a = 5\n",
    "b = 2\n",
    "c = 5-2\n",
    "print('5.00 - 2.00 = %.4f'%c)"
   ]
  },
  {
   "cell_type": "code",
   "execution_count": 46,
   "metadata": {},
   "outputs": [
    {
     "name": "stdout",
     "output_type": "stream",
     "text": [
      "ฉันเกิดวันที่ 25\n"
     ]
    }
   ],
   "source": [
    "#ข้อ20\n",
    "birthday = 25\n",
    "print('ฉันเกิดวันที่ %d'%birthday)"
   ]
  },
  {
   "cell_type": "code",
   "execution_count": 47,
   "metadata": {},
   "outputs": [
    {
     "name": "stdout",
     "output_type": "stream",
     "text": [
      "5 เท่าของ 100 มีค่าเท่ากับ 500\n"
     ]
    }
   ],
   "source": [
    "#ข้อที่21\n",
    "a = 5\n",
    "b = 100\n",
    "c = 5*100\n",
    "print('5 เท่าของ 100 มีค่าเท่ากับ %d'%c)"
   ]
  },
  {
   "cell_type": "code",
   "execution_count": 48,
   "metadata": {},
   "outputs": [
    {
     "name": "stdout",
     "output_type": "stream",
     "text": [
      "\"Good morning\"\n"
     ]
    }
   ],
   "source": [
    "#ข้อ22\n",
    "print('\"Good morning\"')"
   ]
  },
  {
   "cell_type": "code",
   "execution_count": 49,
   "metadata": {},
   "outputs": [
    {
     "name": "stdout",
     "output_type": "stream",
     "text": [
      "*\n",
      "**\n",
      "***\n"
     ]
    }
   ],
   "source": [
    "#ข้อ23\n",
    "print('*')\n",
    "print('**')\n",
    "print('***')"
   ]
  },
  {
   "cell_type": "code",
   "execution_count": 50,
   "metadata": {},
   "outputs": [
    {
     "name": "stdout",
     "output_type": "stream",
     "text": [
      "10\n"
     ]
    }
   ],
   "source": [
    "#ข้อ24\n",
    "a = int(input())\n",
    "b = int(input())\n",
    "c = a+b\n",
    "print(c)"
   ]
  },
  {
   "cell_type": "code",
   "execution_count": 61,
   "metadata": {},
   "outputs": [
    {
     "name": "stdout",
     "output_type": "stream",
     "text": [
      "*****\n"
     ]
    }
   ],
   "source": [
    "#ข้อ25\n",
    "a = str(input())\n",
    "b = int(input())\n",
    "c = b*a\n",
    "print(c)"
   ]
  },
  {
   "cell_type": "code",
   "execution_count": 62,
   "metadata": {},
   "outputs": [
    {
     "name": "stdout",
     "output_type": "stream",
     "text": [
      "5.0\n"
     ]
    }
   ],
   "source": [
    "#ข้อ26\n",
    "a = int(input())\n",
    "b = int(input())\n",
    "c = int(input())\n",
    "z = (a + b + c ) / 3\n",
    "print(z)"
   ]
  },
  {
   "cell_type": "code",
   "execution_count": 64,
   "metadata": {},
   "outputs": [
    {
     "name": "stdout",
     "output_type": "stream",
     "text": [
      "45 162\n"
     ]
    }
   ],
   "source": [
    "#ข้อ27\n",
    "w = weight = int(input())\n",
    "h = height = int(input())\n",
    "\n",
    "print('%d %d'%(w,h))\n"
   ]
  },
  {
   "cell_type": "code",
   "execution_count": 67,
   "metadata": {},
   "outputs": [
    {
     "name": "stdout",
     "output_type": "stream",
     "text": [
      "You Press A\n"
     ]
    }
   ],
   "source": [
    "#ข้อ28\n",
    "q = str(input())\n",
    "print('You Press %s'%q)"
   ]
  },
  {
   "cell_type": "code",
   "execution_count": 68,
   "metadata": {},
   "outputs": [
    {
     "name": "stdout",
     "output_type": "stream",
     "text": [
      "50\n"
     ]
    }
   ],
   "source": [
    "#ข้อ29\n",
    "m = int(input())\n",
    "n = int(input())\n",
    "o = m - n\n",
    "print(o)"
   ]
  },
  {
   "cell_type": "code",
   "execution_count": 70,
   "metadata": {},
   "outputs": [
    {
     "name": "stdout",
     "output_type": "stream",
     "text": [
      "Hello Selena Gomez\n",
      "You're 20 year old\n"
     ]
    }
   ],
   "source": [
    "#ข้อ30\n",
    "name = str(input('Enter your first name: '))\n",
    "last_name = str(input('Enter your last name: '))\n",
    "age = int(input('Enter your age: '))\n",
    "print(\"Hello %s %s\\nYou're %d year old\"%(name,last_name,age))"
   ]
  },
  {
   "cell_type": "code",
   "execution_count": 1,
   "metadata": {},
   "outputs": [
    {
     "name": "stdout",
     "output_type": "stream",
     "text": [
      "Discount(baht): 125\n",
      "Payment: 125\n"
     ]
    }
   ],
   "source": [
    "price = float(input(\"Price: \"))\n",
    "discount_percent = int(input(\"Discount(%): \"))\n",
    "discount_bath = discount_percent / 100 * price\n",
    "payment = price - discount_bath\n",
    "print(\"Discount(baht): %d\" %discount_bath)\n",
    "print(\"Payment: %d\" %payment) \n"
   ]
  },
  {
   "cell_type": "code",
   "execution_count": null,
   "metadata": {},
   "outputs": [],
   "source": []
  }
 ],
 "metadata": {
  "interpreter": {
   "hash": "33d1d880aaa089d041631d5030936f7b01302ab71f3ac097a985a8b4cc520637"
  },
  "kernelspec": {
   "display_name": "Python 3.8.11 64-bit ('base': conda)",
   "name": "python3"
  },
  "language_info": {
   "codemirror_mode": {
    "name": "ipython",
    "version": 3
   },
   "file_extension": ".py",
   "mimetype": "text/x-python",
   "name": "python",
   "nbconvert_exporter": "python",
   "pygments_lexer": "ipython3",
   "version": "3.8.11"
  },
  "orig_nbformat": 4
 },
 "nbformat": 4,
 "nbformat_minor": 2
}
